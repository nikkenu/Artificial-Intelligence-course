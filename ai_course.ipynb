{
 "cells": [
  {
   "cell_type": "markdown",
   "metadata": {},
   "source": [
    "## Introduction\n",
    "\n",
    "### AI Agents\n",
    "* Simple Reflex Agent\n",
    "  * Take decisions on the basis of the current percepts and ignore the rest.\n",
    "  * Succees only in fully observable environment.\n",
    "  * Works on condition-action rule.\n",
    "  * Very limited intelligence.\n",
    "  * Most of the times too big to store.\n",
    "  * Not adaptive to changes in the environment.\n",
    "* Model-based reflex agent\n",
    "  * Can work in a partially observable environment and track the situation.\n",
    "  * Two important factors:\n",
    "    * Model: It is knowledge about how things happen in the world.\n",
    "    * Internal State: It is a representation of the current state based on percept history.\n",
    "* Goal-based agent\n",
    "  * Not always sufficient to decide for an agent what to do.\n",
    "  * Needs to know its goal which describes desirable situations.\n",
    "  * They choose an action, so that they can achieve the goal.\n",
    "* Utility-based agent\n",
    "  * Similar to goal-based agent but provide an extra component of utility measurement which makes them different by providing a measure of success at a given state.\n",
    "  * Act based on the best way to achieve the goal.\n",
    "  * Useful when there are multiple possible alternatives.\n",
    "* Learning agent\n",
    "  * It can learn from its past experiences, or it has learning capabilities.\n",
    "  * Starts with basic knowledge that learn through learning.\n",
    "  * Four conceptual components:\n",
    "    * Learning element: Responsible to making improvements\n",
    "    * Critic: Learning element takes feedback from critic, which desribes how well the agent is doing.\n",
    "    * Performance element: Responsible for selecting external action.\n",
    "    * Problem generator: Responsible for suggesting actions that will lead to new and informative experiences."
   ]
  }
 ],
 "metadata": {
  "language_info": {
   "name": "python"
  },
  "orig_nbformat": 4
 },
 "nbformat": 4,
 "nbformat_minor": 2
}
